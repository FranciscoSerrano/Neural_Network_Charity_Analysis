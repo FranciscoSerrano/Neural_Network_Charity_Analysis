{
 "metadata": {
  "language_info": {
   "codemirror_mode": {
    "name": "ipython",
    "version": 3
   },
   "file_extension": ".py",
   "mimetype": "text/x-python",
   "name": "python",
   "nbconvert_exporter": "python",
   "pygments_lexer": "ipython3",
   "version": "3.7.9-final"
  },
  "orig_nbformat": 2,
  "kernelspec": {
   "name": "pythondata",
   "display_name": "PythonData"
  }
 },
 "nbformat": 4,
 "nbformat_minor": 2,
 "cells": [
  {
   "cell_type": "code",
   "execution_count": 1,
   "metadata": {},
   "outputs": [
    {
     "output_type": "execute_result",
     "data": {
      "text/plain": [
       "   Pregnancies  Glucose  BloodPressure  SkinThickness  Insulin   BMI  \\\n",
       "0            6      148             72             35        0  33.6   \n",
       "1            1       85             66             29        0  26.6   \n",
       "2            8      183             64              0        0  23.3   \n",
       "3            1       89             66             23       94  28.1   \n",
       "4            0      137             40             35      168  43.1   \n",
       "\n",
       "   DiabetesPedigreeFunction  Age  Outcome  \n",
       "0                     0.627   50        1  \n",
       "1                     0.351   31        0  \n",
       "2                     0.672   32        1  \n",
       "3                     0.167   21        0  \n",
       "4                     2.288   33        1  "
      ],
      "text/html": "<div>\n<style scoped>\n    .dataframe tbody tr th:only-of-type {\n        vertical-align: middle;\n    }\n\n    .dataframe tbody tr th {\n        vertical-align: top;\n    }\n\n    .dataframe thead th {\n        text-align: right;\n    }\n</style>\n<table border=\"1\" class=\"dataframe\">\n  <thead>\n    <tr style=\"text-align: right;\">\n      <th></th>\n      <th>Pregnancies</th>\n      <th>Glucose</th>\n      <th>BloodPressure</th>\n      <th>SkinThickness</th>\n      <th>Insulin</th>\n      <th>BMI</th>\n      <th>DiabetesPedigreeFunction</th>\n      <th>Age</th>\n      <th>Outcome</th>\n    </tr>\n  </thead>\n  <tbody>\n    <tr>\n      <th>0</th>\n      <td>6</td>\n      <td>148</td>\n      <td>72</td>\n      <td>35</td>\n      <td>0</td>\n      <td>33.6</td>\n      <td>0.627</td>\n      <td>50</td>\n      <td>1</td>\n    </tr>\n    <tr>\n      <th>1</th>\n      <td>1</td>\n      <td>85</td>\n      <td>66</td>\n      <td>29</td>\n      <td>0</td>\n      <td>26.6</td>\n      <td>0.351</td>\n      <td>31</td>\n      <td>0</td>\n    </tr>\n    <tr>\n      <th>2</th>\n      <td>8</td>\n      <td>183</td>\n      <td>64</td>\n      <td>0</td>\n      <td>0</td>\n      <td>23.3</td>\n      <td>0.672</td>\n      <td>32</td>\n      <td>1</td>\n    </tr>\n    <tr>\n      <th>3</th>\n      <td>1</td>\n      <td>89</td>\n      <td>66</td>\n      <td>23</td>\n      <td>94</td>\n      <td>28.1</td>\n      <td>0.167</td>\n      <td>21</td>\n      <td>0</td>\n    </tr>\n    <tr>\n      <th>4</th>\n      <td>0</td>\n      <td>137</td>\n      <td>40</td>\n      <td>35</td>\n      <td>168</td>\n      <td>43.1</td>\n      <td>2.288</td>\n      <td>33</td>\n      <td>1</td>\n    </tr>\n  </tbody>\n</table>\n</div>"
     },
     "metadata": {},
     "execution_count": 1
    }
   ],
   "source": [
    "# Import our dependencies\n",
    "from sklearn.model_selection import train_test_split\n",
    "from sklearn.preprocessing import StandardScaler\n",
    "from sklearn.linear_model import LogisticRegression\n",
    "from sklearn.metrics import accuracy_score\n",
    "import pandas as pd\n",
    "import tensorflow as tf\n",
    "\n",
    "# Import our input dataset\n",
    "diabetes_df = pd.read_csv('../dataset/diabetes.csv')\n",
    "diabetes_df.head()"
   ]
  },
  {
   "cell_type": "code",
   "execution_count": 2,
   "metadata": {},
   "outputs": [],
   "source": [
    "# Remove diabetes outcome target from features data\n",
    "y = diabetes_df.Outcome\n",
    "X = diabetes_df.drop(columns=\"Outcome\")\n",
    "\n",
    "# Split training/test datasets\n",
    "X_train, X_test, y_train, y_test = train_test_split(X, y, random_state=42, stratify=y)"
   ]
  },
  {
   "cell_type": "code",
   "execution_count": 3,
   "metadata": {},
   "outputs": [],
   "source": [
    "# Preprocess numerical data for neural network\n",
    "\n",
    "# Create a StandardScaler instance\n",
    "scaler = StandardScaler()\n",
    "\n",
    "# Fit the StandardScaler\n",
    "X_scaler = scaler.fit(X_train)\n",
    "\n",
    "# Scale the data\n",
    "X_train_scaled = X_scaler.transform(X_train)\n",
    "X_test_scaled = X_scaler.transform(X_test)"
   ]
  },
  {
   "cell_type": "code",
   "execution_count": 4,
   "metadata": {},
   "outputs": [
    {
     "output_type": "stream",
     "name": "stdout",
     "text": [
      " Logistic regression model accuracy: 0.729\n"
     ]
    }
   ],
   "source": [
    "# Define the logistic regression model\n",
    "log_classifier = LogisticRegression(solver=\"lbfgs\",max_iter=200)\n",
    "\n",
    "# Train the model\n",
    "log_classifier.fit(X_train,y_train)\n",
    "\n",
    "# Evaluate the model\n",
    "y_pred = log_classifier.predict(X_test)\n",
    "print(f\" Logistic regression model accuracy: {accuracy_score(y_test,y_pred):.3f}\")\n"
   ]
  },
  {
   "cell_type": "code",
   "execution_count": 5,
   "metadata": {},
   "outputs": [
    {
     "output_type": "stream",
     "name": "stdout",
     "text": [
      "Epoch 1/50\n",
      "18/18 [==============================] - 0s 791us/step - loss: 0.7643 - accuracy: 0.4097\n",
      "Epoch 2/50\n",
      "18/18 [==============================] - 0s 553us/step - loss: 0.7264 - accuracy: 0.4931\n",
      "Epoch 3/50\n",
      "18/18 [==============================] - 0s 578us/step - loss: 0.6955 - accuracy: 0.5365\n",
      "Epoch 4/50\n",
      "18/18 [==============================] - 0s 590us/step - loss: 0.6691 - accuracy: 0.5729\n",
      "Epoch 5/50\n",
      "18/18 [==============================] - 0s 608us/step - loss: 0.6478 - accuracy: 0.6111\n",
      "Epoch 6/50\n",
      "18/18 [==============================] - 0s 603us/step - loss: 0.6278 - accuracy: 0.6667\n",
      "Epoch 7/50\n",
      "18/18 [==============================] - 0s 551us/step - loss: 0.6101 - accuracy: 0.7014\n",
      "Epoch 8/50\n",
      "18/18 [==============================] - 0s 563us/step - loss: 0.5930 - accuracy: 0.7240\n",
      "Epoch 9/50\n",
      "18/18 [==============================] - 0s 551us/step - loss: 0.5776 - accuracy: 0.7344\n",
      "Epoch 10/50\n",
      "18/18 [==============================] - 0s 575us/step - loss: 0.5624 - accuracy: 0.7378\n",
      "Epoch 11/50\n",
      "18/18 [==============================] - 0s 527us/step - loss: 0.5487 - accuracy: 0.7517\n",
      "Epoch 12/50\n",
      "18/18 [==============================] - 0s 561us/step - loss: 0.5355 - accuracy: 0.7708\n",
      "Epoch 13/50\n",
      "18/18 [==============================] - 0s 619us/step - loss: 0.5235 - accuracy: 0.7760\n",
      "Epoch 14/50\n",
      "18/18 [==============================] - 0s 614us/step - loss: 0.5129 - accuracy: 0.7795\n",
      "Epoch 15/50\n",
      "18/18 [==============================] - 0s 537us/step - loss: 0.5041 - accuracy: 0.7795\n",
      "Epoch 16/50\n",
      "18/18 [==============================] - 0s 615us/step - loss: 0.4955 - accuracy: 0.7795\n",
      "Epoch 17/50\n",
      "18/18 [==============================] - 0s 484us/step - loss: 0.4888 - accuracy: 0.7778\n",
      "Epoch 18/50\n",
      "18/18 [==============================] - 0s 479us/step - loss: 0.4827 - accuracy: 0.7847\n",
      "Epoch 19/50\n",
      "18/18 [==============================] - 0s 516us/step - loss: 0.4780 - accuracy: 0.7812\n",
      "Epoch 20/50\n",
      "18/18 [==============================] - 0s 476us/step - loss: 0.4731 - accuracy: 0.7830\n",
      "Epoch 21/50\n",
      "18/18 [==============================] - 0s 546us/step - loss: 0.4698 - accuracy: 0.7830\n",
      "Epoch 22/50\n",
      "18/18 [==============================] - 0s 515us/step - loss: 0.4660 - accuracy: 0.7795\n",
      "Epoch 23/50\n",
      "18/18 [==============================] - 0s 476us/step - loss: 0.4630 - accuracy: 0.7830\n",
      "Epoch 24/50\n",
      "18/18 [==============================] - 0s 675us/step - loss: 0.4607 - accuracy: 0.7830\n",
      "Epoch 25/50\n",
      "18/18 [==============================] - 0s 525us/step - loss: 0.4580 - accuracy: 0.7865\n",
      "Epoch 26/50\n",
      "18/18 [==============================] - 0s 516us/step - loss: 0.4557 - accuracy: 0.7899\n",
      "Epoch 27/50\n",
      "18/18 [==============================] - 0s 489us/step - loss: 0.4548 - accuracy: 0.7899\n",
      "Epoch 28/50\n",
      "18/18 [==============================] - 0s 706us/step - loss: 0.4523 - accuracy: 0.7934\n",
      "Epoch 29/50\n",
      "18/18 [==============================] - 0s 615us/step - loss: 0.4506 - accuracy: 0.7986\n",
      "Epoch 30/50\n",
      "18/18 [==============================] - 0s 634us/step - loss: 0.4491 - accuracy: 0.8003\n",
      "Epoch 31/50\n",
      "18/18 [==============================] - 0s 565us/step - loss: 0.4480 - accuracy: 0.8038\n",
      "Epoch 32/50\n",
      "18/18 [==============================] - 0s 517us/step - loss: 0.4467 - accuracy: 0.8038\n",
      "Epoch 33/50\n",
      "18/18 [==============================] - 0s 590us/step - loss: 0.4455 - accuracy: 0.8056\n",
      "Epoch 34/50\n",
      "18/18 [==============================] - 0s 562us/step - loss: 0.4443 - accuracy: 0.8056\n",
      "Epoch 35/50\n",
      "18/18 [==============================] - 0s 480us/step - loss: 0.4433 - accuracy: 0.8073\n",
      "Epoch 36/50\n",
      "18/18 [==============================] - 0s 646us/step - loss: 0.4422 - accuracy: 0.8056\n",
      "Epoch 37/50\n",
      "18/18 [==============================] - 0s 597us/step - loss: 0.4420 - accuracy: 0.8073\n",
      "Epoch 38/50\n",
      "18/18 [==============================] - 0s 590us/step - loss: 0.4407 - accuracy: 0.8073\n",
      "Epoch 39/50\n",
      "18/18 [==============================] - 0s 536us/step - loss: 0.4403 - accuracy: 0.8038\n",
      "Epoch 40/50\n",
      "18/18 [==============================] - 0s 567us/step - loss: 0.4388 - accuracy: 0.8056\n",
      "Epoch 41/50\n",
      "18/18 [==============================] - 0s 596us/step - loss: 0.4382 - accuracy: 0.8073\n",
      "Epoch 42/50\n",
      "18/18 [==============================] - 0s 570us/step - loss: 0.4373 - accuracy: 0.8056\n",
      "Epoch 43/50\n",
      "18/18 [==============================] - 0s 547us/step - loss: 0.4366 - accuracy: 0.8056\n",
      "Epoch 44/50\n",
      "18/18 [==============================] - 0s 626us/step - loss: 0.4363 - accuracy: 0.8056\n",
      "Epoch 45/50\n",
      "18/18 [==============================] - 0s 633us/step - loss: 0.4358 - accuracy: 0.8056\n",
      "Epoch 46/50\n",
      "18/18 [==============================] - 0s 656us/step - loss: 0.4347 - accuracy: 0.8038\n",
      "Epoch 47/50\n",
      "18/18 [==============================] - 0s 570us/step - loss: 0.4341 - accuracy: 0.8038\n",
      "Epoch 48/50\n",
      "18/18 [==============================] - 0s 534us/step - loss: 0.4334 - accuracy: 0.8056\n",
      "Epoch 49/50\n",
      "18/18 [==============================] - 0s 727us/step - loss: 0.4328 - accuracy: 0.8073\n",
      "Epoch 50/50\n",
      "18/18 [==============================] - 0s 864us/step - loss: 0.4326 - accuracy: 0.8038\n",
      "6/6 - 0s - loss: 0.4869 - accuracy: 0.7135\n",
      "Loss: 0.4868597984313965, Accuracy: 0.7135416865348816\n"
     ]
    }
   ],
   "source": [
    "# Define the basic neural network model\n",
    "nn_model = tf.keras.models.Sequential()\n",
    "nn_model.add(tf.keras.layers.Dense(units=16, activation=\"relu\", input_dim=8))\n",
    "nn_model.add(tf.keras.layers.Dense(units=1, activation=\"sigmoid\"))\n",
    "\n",
    "# Compile the Sequential model together and customize metrics\n",
    "nn_model.compile(loss=\"binary_crossentropy\", optimizer=\"adam\", metrics=[\"accuracy\"])\n",
    "\n",
    "# Train the model\n",
    "fit_model = nn_model.fit(X_train_scaled, y_train, epochs=50)\n",
    "\n",
    "# Evaluate the model using the test data\n",
    "model_loss, model_accuracy = nn_model.evaluate(X_test_scaled,y_test,verbose=2)\n",
    "print(f\"Loss: {model_loss}, Accuracy: {model_accuracy}\")\n"
   ]
  },
  {
   "cell_type": "code",
   "execution_count": null,
   "metadata": {},
   "outputs": [],
   "source": []
  }
 ]
}